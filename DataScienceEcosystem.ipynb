{
 "cells": [
  {
   "cell_type": "markdown",
   "id": "d4bd7005-7586-4f19-9ad9-61b254f4f3fa",
   "metadata": {},
   "source": [
    "# Data Science Tools and Ecosystem"
   ]
  },
  {
   "cell_type": "markdown",
   "id": "b97fe68a-1853-4118-9db5-0ed785abc863",
   "metadata": {},
   "source": [
    "In this notebook, Data Science Tools and Ecosystem are summarized."
   ]
  },
  {
   "cell_type": "markdown",
   "id": "cae6d66b-e2ed-4509-bac5-9e446fd5e8f3",
   "metadata": {},
   "source": [
    "**Objectives:**\n",
    "* List popular languages for Data Science\n",
    "* List popular used libraries for Data Science\n",
    "* List of Data Science open sourse tools"
   ]
  },
  {
   "cell_type": "markdown",
   "id": "a22015dc-7eff-4a2e-8dab-a75af31deadf",
   "metadata": {},
   "source": [
    "##### Some of the popular languages that Data Scientists use are:\n",
    "1. Python\n",
    "2. R\n",
    "3. Java\n",
    "4. C++\n",
    "5. SQL"
   ]
  },
  {
   "cell_type": "markdown",
   "id": "1db0464b-5a0f-49ca-ae04-c2c3b0ad7fae",
   "metadata": {},
   "source": [
    "##### Some of the commonly used libraries used by Data Scientists include:\n",
    "1. NumPy\n",
    "2. Pandas\n",
    "3. PyTourch\n",
    "4. Keran"
   ]
  },
  {
   "cell_type": "markdown",
   "id": "00323a71-2742-4018-b5cd-0ca4d42d1e9b",
   "metadata": {},
   "source": [
    "##### Table of Data Science Tools\n",
    "|Data Science Tools|\n",
    "|------------------|\n",
    "|MySQL|\n",
    "|Apache Cassandra|\n",
    "|MongoDB|"
   ]
  },
  {
   "cell_type": "markdown",
   "id": "ede65ba0-a2c2-49e5-8e59-4b36d42f490b",
   "metadata": {},
   "source": [
    "### Below are a few examples of evaluating arithmetic expressions in Python"
   ]
  },
  {
   "cell_type": "code",
   "execution_count": 3,
   "id": "5b77075c-19b6-4d4d-a642-bbabb507a15d",
   "metadata": {},
   "outputs": [
    {
     "data": {
      "text/plain": [
       "17"
      ]
     },
     "execution_count": 3,
     "metadata": {},
     "output_type": "execute_result"
    }
   ],
   "source": [
    "#This a simple arithmetic expression to mutiply then add integers\n",
    "(3*4)+5"
   ]
  },
  {
   "cell_type": "code",
   "execution_count": 9,
   "id": "8c5b5943-37a3-40f7-a934-f7b55b7df060",
   "metadata": {},
   "outputs": [
    {
     "data": {
      "text/plain": [
       "3.3333333333333335"
      ]
     },
     "execution_count": 9,
     "metadata": {},
     "output_type": "execute_result"
    }
   ],
   "source": [
    "#This will convert 200 minutes to hours by diving by 60\n",
    "200/60"
   ]
  },
  {
   "cell_type": "markdown",
   "id": "ae7db5a6-1798-4fe7-9446-59b087e12775",
   "metadata": {},
   "source": [
    "## Author\n",
    "Raghad Almuthaffar"
   ]
  },
  {
   "cell_type": "code",
   "execution_count": null,
   "id": "3237b67e-0738-4ff3-8793-2b3aa4cb2f88",
   "metadata": {},
   "outputs": [],
   "source": []
  }
 ],
 "metadata": {
  "kernelspec": {
   "display_name": "Python 3 (ipykernel)",
   "language": "python",
   "name": "python3"
  },
  "language_info": {
   "codemirror_mode": {
    "name": "ipython",
    "version": 3
   },
   "file_extension": ".py",
   "mimetype": "text/x-python",
   "name": "python",
   "nbconvert_exporter": "python",
   "pygments_lexer": "ipython3",
   "version": "3.13.7"
  }
 },
 "nbformat": 4,
 "nbformat_minor": 5
}
